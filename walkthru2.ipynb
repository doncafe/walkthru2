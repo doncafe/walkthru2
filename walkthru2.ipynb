{
 "cells": [
  {
   "cell_type": "markdown",
   "id": "8bbabcae",
   "metadata": {},
   "source": [
    "# Walkthru sample notebook"
   ]
  },
  {
   "cell_type": "markdown",
   "id": "a1a5f853",
   "metadata": {},
   "source": [
    "- Some operations: `a = 3**2`"
   ]
  },
  {
   "cell_type": "code",
   "execution_count": 1,
   "id": "544702ae",
   "metadata": {},
   "outputs": [],
   "source": [
    "a = 3 ** 2"
   ]
  },
  {
   "cell_type": "code",
   "execution_count": 2,
   "id": "6e9498b3",
   "metadata": {},
   "outputs": [
    {
     "data": {
      "text/plain": [
       "9"
      ]
     },
     "execution_count": 2,
     "metadata": {},
     "output_type": "execute_result"
    }
   ],
   "source": [
    "a"
   ]
  },
  {
   "cell_type": "code",
   "execution_count": 3,
   "id": "af837c0c",
   "metadata": {},
   "outputs": [],
   "source": [
    "from numpy import *"
   ]
  },
  {
   "cell_type": "code",
   "execution_count": 4,
   "id": "547fc35b",
   "metadata": {},
   "outputs": [
    {
     "data": {
      "text/plain": [
       "array([0.84147098, 1.        ])"
      ]
     },
     "execution_count": 4,
     "metadata": {},
     "output_type": "execute_result"
    }
   ],
   "source": [
    "y = array([1.0, pi/2])\n",
    "sin(y)"
   ]
  },
  {
   "cell_type": "code",
   "execution_count": null,
   "id": "0bacc040-595c-4030-a01e-ba58c84d2ab4",
   "metadata": {},
   "outputs": [],
   "source": []
  }
 ],
 "metadata": {
  "kernelspec": {
   "display_name": "Python 3 (ipykernel)",
   "language": "python",
   "name": "python3"
  },
  "language_info": {
   "codemirror_mode": {
    "name": "ipython",
    "version": 3
   },
   "file_extension": ".py",
   "mimetype": "text/x-python",
   "name": "python",
   "nbconvert_exporter": "python",
   "pygments_lexer": "ipython3",
   "version": "3.10.5"
  }
 },
 "nbformat": 4,
 "nbformat_minor": 5
}
